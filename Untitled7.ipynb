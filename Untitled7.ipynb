{
 "cells": [
  {
   "cell_type": "code",
   "execution_count": 3,
   "metadata": {},
   "outputs": [],
   "source": [
    "## Import data visualization packages\n",
    "import matplotlib.pyplot as plt\n",
    "%matplotlib inline"
   ]
  },
  {
   "cell_type": "code",
   "execution_count": 6,
   "metadata": {},
   "outputs": [],
   "source": [
    "import pandas as pd\n",
    "import numpy as np\n",
    "\n"
   ]
  },
  {
   "cell_type": "code",
   "execution_count": 8,
   "metadata": {},
   "outputs": [],
   "source": [
    "import matplotlib.pyplot as plt"
   ]
  },
  {
   "cell_type": "code",
   "execution_count": 29,
   "metadata": {},
   "outputs": [
    {
     "name": "stdout",
     "output_type": "stream",
     "text": [
      "     OBJECTID       DATE  Baltimore\n",
      "0           1 2020-04-03          3\n",
      "1           2 2020-04-04          4\n",
      "2           3 2020-04-05          6\n",
      "3           4 2020-04-06         11\n",
      "4           5 2020-04-07         11\n",
      "..        ...        ...        ...\n",
      "213       214 2020-11-02        652\n",
      "214       215 2020-11-03        653\n",
      "215       216 2020-11-04        655\n",
      "216       217 2020-11-05        658\n",
      "217       218 2020-11-06        658\n",
      "\n",
      "[218 rows x 3 columns]\n"
     ]
    }
   ],
   "source": [
    "import pandas as pd\n",
    "\n",
    "df = pd.read_excel (r'C:\\Users\\bekel\\OneDrive\\Desktop\\Data incubetor\\COVID Baltimore.xlsx')\n",
    "print (df)"
   ]
  },
  {
   "cell_type": "code",
   "execution_count": 15,
   "metadata": {},
   "outputs": [
    {
     "data": {
      "image/png": "[encoded data removed]",
      "text/plain": [
       "<Figure size 432x288 with 1 Axes>"
      ]
     },
     "metadata": {
      "needs_background": "light"
     },
     "output_type": "display_data"
    }
   ],
   "source": [
    "plt.bar(\"Baltimore\", \"OBJECTID\", data = df, color = \"blue\")\n",
    "plt.xlabel(\"Baltimore\")\n",
    "plt.ylabel(\"DATE\")\n",
    "plt.title(\"Highest goal scorers in the Premier league 2019-20 by mid-season\")\n",
    "plt.show()"
   ]
  },
  {
   "cell_type": "code",
   "execution_count": 20,
   "metadata": {},
   "outputs": [
    {
     "data": {
      "image/png": "[encoded data removed]",
      "text/plain": [
       "<Figure size 432x288 with 1 Axes>"
      ]
     },
     "metadata": {
      "needs_background": "light"
     },
     "output_type": "display_data"
    }
   ],
   "source": [
    "plt.bar(\"Baltimore\", \"OBJECTID\", data = df, color = \"INDIGO\")\n",
    "plt.xlabel(\"Baltimore\")\n",
    "plt.ylabel(\"DATE\")\n",
    "plt.title(\"NUMBER OF COVID CASES IN Baltimore from 2020-04-03 10:00:00 to 218 2020-11-06 10:00:00\")\n",
    "plt.show()"
   ]
  },
  {
   "cell_type": "code",
   "execution_count": 22,
   "metadata": {},
   "outputs": [
    {
     "name": "stdout",
     "output_type": "stream",
     "text": [
      "2020-04-03\n",
      "2020-04-04\n",
      "2020-04-05\n",
      "2020-04-06\n",
      "2020-04-07\n",
      "2020-04-08\n",
      "2020-04-09\n",
      "2020-04-10\n",
      "2020-04-11\n",
      "2020-04-12\n",
      "2020-04-13\n",
      "2020-04-14\n",
      "2020-04-15\n",
      "2020-04-16\n",
      "2020-04-17\n",
      "2020-04-18\n",
      "2020-04-19\n",
      "2020-04-20\n",
      "2020-04-21\n",
      "2020-04-22\n",
      "2020-04-23\n",
      "2020-04-24\n",
      "2020-04-25\n",
      "2020-04-26\n",
      "2020-04-27\n",
      "2020-04-28\n",
      "2020-04-29\n",
      "2020-04-30\n",
      "2020-05-01\n",
      "2020-05-02\n",
      "2020-05-03\n",
      "2020-05-04\n",
      "2020-05-05\n",
      "2020-05-06\n",
      "2020-05-07\n",
      "2020-05-08\n",
      "2020-05-09\n",
      "2020-05-10\n",
      "2020-05-11\n",
      "2020-05-12\n",
      "2020-05-13\n",
      "2020-05-14\n",
      "2020-05-15\n",
      "2020-05-16\n",
      "2020-05-17\n",
      "2020-05-18\n",
      "2020-05-19\n",
      "2020-05-20\n",
      "2020-05-21\n",
      "2020-05-22\n",
      "2020-05-23\n",
      "2020-05-24\n",
      "2020-05-25\n",
      "2020-05-26\n",
      "2020-05-27\n",
      "2020-05-28\n",
      "2020-05-29\n",
      "2020-05-30\n",
      "2020-05-31\n",
      "2020-06-01\n",
      "2020-06-02\n",
      "2020-06-03\n",
      "2020-06-04\n",
      "2020-06-05\n",
      "2020-06-06\n",
      "2020-06-07\n",
      "2020-06-08\n",
      "2020-06-09\n",
      "2020-06-10\n",
      "2020-06-11\n",
      "2020-06-12\n",
      "2020-06-13\n",
      "2020-06-14\n",
      "2020-06-15\n",
      "2020-06-16\n",
      "2020-06-17\n",
      "2020-06-18\n",
      "2020-06-19\n",
      "2020-06-20\n",
      "2020-06-21\n",
      "2020-06-22\n",
      "2020-06-23\n",
      "2020-06-24\n",
      "2020-06-25\n",
      "2020-06-26\n",
      "2020-06-27\n",
      "2020-06-28\n",
      "2020-06-29\n",
      "2020-06-30\n",
      "2020-07-01\n",
      "2020-07-02\n",
      "2020-07-03\n",
      "2020-07-04\n",
      "2020-07-05\n",
      "2020-07-06\n",
      "2020-07-07\n",
      "2020-07-08\n",
      "2020-07-09\n",
      "2020-07-10\n",
      "2020-07-11\n",
      "2020-07-12\n",
      "2020-07-13\n",
      "2020-07-14\n",
      "2020-07-15\n",
      "2020-07-16\n",
      "2020-07-17\n",
      "2020-07-18\n",
      "2020-07-19\n",
      "2020-07-20\n",
      "2020-07-21\n",
      "2020-07-22\n",
      "2020-07-23\n",
      "2020-07-24\n",
      "2020-07-25\n",
      "2020-07-26\n",
      "2020-07-27\n",
      "2020-07-28\n",
      "2020-07-29\n",
      "2020-07-30\n",
      "2020-07-31\n",
      "2020-08-01\n",
      "2020-08-02\n",
      "2020-08-03\n",
      "2020-08-04\n",
      "2020-08-05\n",
      "2020-08-06\n",
      "2020-08-07\n",
      "2020-08-08\n",
      "2020-08-09\n",
      "2020-08-10\n",
      "2020-08-11\n",
      "2020-08-12\n",
      "2020-08-13\n",
      "2020-08-14\n",
      "2020-08-15\n",
      "2020-08-16\n",
      "2020-08-17\n",
      "2020-08-18\n",
      "2020-08-19\n",
      "2020-08-20\n",
      "2020-08-21\n",
      "2020-08-22\n",
      "2020-08-23\n",
      "2020-08-24\n",
      "2020-08-25\n",
      "2020-08-26\n",
      "2020-08-27\n",
      "2020-08-28\n",
      "2020-08-29\n",
      "2020-08-30\n",
      "2020-08-31\n",
      "2020-09-01\n",
      "2020-09-02\n",
      "2020-09-03\n",
      "2020-09-04\n",
      "2020-09-05\n",
      "2020-09-06\n",
      "2020-09-07\n",
      "2020-09-08\n",
      "2020-09-09\n",
      "2020-09-10\n",
      "2020-09-11\n",
      "2020-09-12\n",
      "2020-09-13\n",
      "2020-09-14\n",
      "2020-09-15\n",
      "2020-09-16\n",
      "2020-09-17\n",
      "2020-09-18\n",
      "2020-09-19\n",
      "2020-09-20\n",
      "2020-09-21\n",
      "2020-09-22\n",
      "2020-09-23\n",
      "2020-09-24\n",
      "2020-09-25\n",
      "2020-09-26\n",
      "2020-09-27\n",
      "2020-09-28\n",
      "2020-09-29\n",
      "2020-09-30\n",
      "2020-10-01\n",
      "2020-10-02\n",
      "2020-10-03\n",
      "2020-10-04\n",
      "2020-10-05\n",
      "2020-10-06\n",
      "2020-10-07\n",
      "2020-10-08\n",
      "2020-10-09\n",
      "2020-10-10\n",
      "2020-10-11\n",
      "2020-10-12\n",
      "2020-10-13\n",
      "2020-10-14\n",
      "2020-10-15\n",
      "2020-10-16\n",
      "2020-10-17\n",
      "2020-10-18\n",
      "2020-10-19\n",
      "2020-10-20\n",
      "2020-10-21\n",
      "2020-10-22\n",
      "2020-10-23\n",
      "2020-10-24\n",
      "2020-10-25\n",
      "2020-10-26\n",
      "2020-10-27\n",
      "2020-10-28\n",
      "2020-10-29\n",
      "2020-10-30\n",
      "2020-10-31\n",
      "2020-11-01\n",
      "2020-11-02\n",
      "2020-11-03\n",
      "2020-11-04\n",
      "2020-11-05\n",
      "2020-11-06\n"
     ]
    }
   ],
   "source": [
    "from datetime import timedelta, date\n",
    "\n",
    "def daterange(date1, date2):\n",
    "    for n in range(int ((date2 - date1).days)+1):\n",
    "        yield date1 + timedelta(n)\n",
    "\n",
    "start_dt = date(2020, 4, 3)\n",
    "end_dt = date(2020, 11, 6)\n",
    "for dt in daterange(start_dt, end_dt):\n",
    "    print(dt.strftime(\"%Y-%m-%d\"))"
   ]
  },
  {
   "cell_type": "code",
   "execution_count": 28,
   "metadata": {},
   "outputs": [
    {
     "ename": "SyntaxError",
     "evalue": "invalid syntax (<ipython-input-28-303836b990b5>, line 5)",
     "output_type": "error",
     "traceback": [
      "\u001b[1;36m  File \u001b[1;32m\"<ipython-input-28-303836b990b5>\"\u001b[1;36m, line \u001b[1;32m5\u001b[0m\n\u001b[1;33m    plt.show()\u001b[0m\n\u001b[1;37m    ^\u001b[0m\n\u001b[1;31mSyntaxError\u001b[0m\u001b[1;31m:\u001b[0m invalid syntax\n"
     ]
    }
   ],
   "source": [
    "plt.bar(\"Baltimore\", dt.strftime(\"%Y-%m-%d\"), data = df, color = \"INDIGO\")\n",
    "plt.xlabel(\"Baltimore\")\n",
    "plt.ylabel(dt.strftime(\"%Y-%m-%d\")\n",
    "#plt.title(\"NUMBER OF COVID CASES IN Baltimore from 2020-04-03 10:00:00 to 218 2020-11-06 10:00:00\")\n",
    "plt.show()"
   ]
  },
  {
   "cell_type": "code",
   "execution_count": 30,
   "metadata": {},
   "outputs": [
    {
     "name": "stdout",
     "output_type": "stream",
     "text": [
      "     OBJECTID       DATE  Baltimore\n",
      "0           1 2020-04-03          3\n",
      "1           2 2020-04-04          4\n",
      "2           3 2020-04-05          6\n",
      "3           4 2020-04-06         11\n",
      "4           5 2020-04-07         11\n",
      "..        ...        ...        ...\n",
      "213       214 2020-11-02        652\n",
      "214       215 2020-11-03        653\n",
      "215       216 2020-11-04        655\n",
      "216       217 2020-11-05        658\n",
      "217       218 2020-11-06        658\n",
      "\n",
      "[218 rows x 3 columns]\n"
     ]
    }
   ],
   "source": [
    "import pandas as pd\n",
    "\n",
    "df = pd.read_excel (r'C:\\Users\\bekel\\OneDrive\\Desktop\\Data incubetor\\COVID Baltimore.xlsx')\n",
    "print (df)"
   ]
  },
  {
   "cell_type": "code",
   "execution_count": 31,
   "metadata": {},
   "outputs": [
    {
     "data": {
      "image/png": "[encoded data removed]",
      "text/plain": [
       "<Figure size 432x288 with 1 Axes>"
      ]
     },
     "metadata": {
      "needs_background": "light"
     },
     "output_type": "display_data"
    }
   ],
   "source": [
    "plt.bar(\"Baltimore\", \"OBJECTID\", data = df, color = \"INDIGO\")\n",
    "plt.xlabel(\"Baltimore\")\n",
    "plt.ylabel(\"DATE\")\n",
    "plt.title(\"NUMBER OF COVID CASES IN Baltimore from 2020-04-03 10:00:00 to 218 2020-11-06 10:00:00\")\n",
    "plt.show()"
   ]
  },
  {
   "cell_type": "code",
   "execution_count": null,
   "metadata": {},
   "outputs": [],
   "source": []
  }
 ],
 "metadata": {
  "kernelspec": {
   "display_name": "Python 3",
   "language": "python",
   "name": "python3"
  },
  "language_info": {
   "codemirror_mode": {
    "name": "ipython",
    "version": 3
   },
   "file_extension": ".py",
   "mimetype": "text/x-python",
   "name": "python",
   "nbconvert_exporter": "python",
   "pygments_lexer": "ipython3",
   "version": "3.8.3"
  }
 },
 "nbformat": 4,
 "nbformat_minor": 4
}
